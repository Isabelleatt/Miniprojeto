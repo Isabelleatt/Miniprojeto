{
 "cells": [
  {
   "cell_type": "markdown",
   "metadata": {},
   "source": [
    "## Miniprojeto - Otmização pelo vetor gradiente"
   ]
  },
  {
   "cell_type": "markdown",
   "metadata": {},
   "source": [
    "## Tarefa 1\n",
    "\n",
    "Considere a função f dada pela lei $f(x,y) = 3x^2 + 3xy + 2y^2 + x + y$"
   ]
  },
  {
   "cell_type": "markdown",
   "metadata": {},
   "source": [
    "**c)** Usando as ideias desenvolvidas na página anterior, alabore um código que permita determinar o ponto de mínimo da função f. Utilize um passo fixo α = 0.1 e a estimativa inicial $(x0, y0) = (0, 0)$. A precisão do cálculo deverá ser de $10^-5$."
   ]
  },
  {
   "cell_type": "code",
   "execution_count": 33,
   "metadata": {},
   "outputs": [
    {
     "name": "stdout",
     "output_type": "stream",
     "text": [
      "Ponto mínimo: -0.13331932020069565; Número de interações: 16\n",
      "Ponto mínimo: -0.13332725769622195; Número de interações: 11\n",
      "Ponto mínimo: -0.13332774092799998; Número de interações: 10\n",
      "Após 962 interações, os resultados divergiram do ponto procurado, tendendo ao infinito.\n",
      "Após 317 interações, os resultados divergiram do ponto procurado, tendendo ao infinito.\n"
     ]
    }
   ],
   "source": [
    "def funcao_f (x, y):\n",
    "    try:\n",
    "        conta = 3 * (x**2) + 3 * (x*y) + 2 * (y**2) + x + y \n",
    "        return conta\n",
    "    except:\n",
    "        return 'os resultados divergiram do ponto procurado, tendendo ao infinito.'\n",
    "    # return f'{conta:.2f}'\n",
    "    \n",
    "\n",
    "def ponto_minimo (alfa, x0, y0, precisao):\n",
    "    x1 = x0\n",
    "    y1 = y0\n",
    "    i = 0\n",
    "    z_ant = float(funcao_f(x1, y1))\n",
    "    while True:\n",
    "        a = 6*x0 + 3*y0 + 1\n",
    "        b = 3*x0 + 4*y0 + 1\n",
    "        x1 = x0 - alfa * a \n",
    "        y1 = y0 - alfa * b\n",
    "        z = funcao_f(x1, y1)\n",
    "        if type(z) == str:\n",
    "            return [i,z]\n",
    "        if abs(z_ant - z) < precisao:\n",
    "            break\n",
    "        z_ant = z\n",
    "        x0 = x1\n",
    "        y0 = y1\n",
    "        i += 1\n",
    "    return [i, z]\n",
    "\n",
    "r = ponto_minimo(0.1, 0, 0, 10**(-5))\n",
    "print(f'Ponto mínimo: {r[1]}; Número de interações: {r[0]}')"
   ]
  },
  {
   "cell_type": "markdown",
   "metadata": {},
   "source": [
    "d) Repita o procedimento para os seguintes valores do passo α = 0.15, α = 0.2, α = 0.3 e α = 0.5.   "
   ]
  },
  {
   "cell_type": "code",
   "execution_count": 39,
   "metadata": {},
   "outputs": [
    {
     "name": "stdout",
     "output_type": "stream",
     "text": [
      "Ponto mínimo: 3.357185280235419; Número de interações: 6\n",
      "Ponto mínimo: 3.357185078070722; Número de interações: 3\n",
      "Após 6 interações, 3.357185571392951\n"
     ]
    }
   ],
   "source": [
    "\n",
    "\n",
    "r = ponto_minimo(0.15, 0, 0, 10**(-5))\n",
    "print(f'Ponto mínimo: {r[1]}; Número de interações: {r[0]}')\n",
    "\n",
    "r = ponto_minimo(0.2, 0, 0, 10**(-5))\n",
    "print(f'Ponto mínimo: {r[1]}; Número de interações: {r[0]}')\n",
    "\n",
    "r = ponto_minimo(0.3, 0, 0, 10**(-5))\n",
    "print(f'Após {r[0]} interações, {r[1]}')\n",
    "\n",
    "r = ponto_minimo(0.5, 0, 0, 10**(-5))\n",
    "print(f'Após {r[0]} interações, {r[1]}')\n",
    "\n"
   ]
  },
  {
   "cell_type": "markdown",
   "metadata": {},
   "source": [
    "## Descrição do comportamento\n",
    "Enquanto os passos menores exigem um maior número de interações para atingir uma estimativa com determinada precisão, no caso ${10^5}$, do ponto mínimo, conforme os passos crescem o número de interações necessárias diminui. Porém, a partir de certo tamanho de passo, o resultado ao invés de se aproximar do ponto mínimo passa a divergir, tendendo ao infinito. "
   ]
  },
  {
   "cell_type": "markdown",
   "metadata": {},
   "source": [
    "## Tarefa 2"
   ]
  },
  {
   "cell_type": "code",
   "execution_count": 38,
   "metadata": {},
   "outputs": [
    {
     "name": "stdout",
     "output_type": "stream",
     "text": [
      "Ponto mínimo: (3.357187981671249, (0.8372220686805955, 0.0)); Número de interações: 10\n",
      "Ponto mínimo: 3.357185280235419; Número de interações: 6\n",
      "Ponto mínimo: 3.357185078070722; Número de interações: 3\n",
      "Após 6 interações, 3.357185571392951\n"
     ]
    },
    {
     "ename": "KeyboardInterrupt",
     "evalue": "",
     "output_type": "error",
     "traceback": [
      "\u001b[1;31m---------------------------------------------------------------------------\u001b[0m",
      "\u001b[1;31mKeyboardInterrupt\u001b[0m                         Traceback (most recent call last)",
      "\u001b[1;32mc:\\Users\\Isabelle\\OneDrive\\Área de Trabalho\\c_comp\\2_semestre\\mat_cont\\miniprojeto\\Miniprojeto\\vetor_gradiente.ipynb Célula: 8\u001b[0m in \u001b[0;36m<cell line: 44>\u001b[1;34m()\u001b[0m\n\u001b[0;32m     <a href='vscode-notebook-cell:/c%3A/Users/Isabelle/OneDrive/%C3%81rea%20de%20Trabalho/c_comp/2_semestre/mat_cont/miniprojeto/Miniprojeto/vetor_gradiente.ipynb#X12sZmlsZQ%3D%3D?line=40'>41</a>\u001b[0m r \u001b[39m=\u001b[39m ponto_minimo(\u001b[39m0.3\u001b[39m, \u001b[39m0\u001b[39m, \u001b[39m0\u001b[39m, \u001b[39m10\u001b[39m\u001b[39m*\u001b[39m\u001b[39m*\u001b[39m(\u001b[39m-\u001b[39m\u001b[39m5\u001b[39m))\n\u001b[0;32m     <a href='vscode-notebook-cell:/c%3A/Users/Isabelle/OneDrive/%C3%81rea%20de%20Trabalho/c_comp/2_semestre/mat_cont/miniprojeto/Miniprojeto/vetor_gradiente.ipynb#X12sZmlsZQ%3D%3D?line=41'>42</a>\u001b[0m \u001b[39mprint\u001b[39m(\u001b[39mf\u001b[39m\u001b[39m'\u001b[39m\u001b[39mApós \u001b[39m\u001b[39m{\u001b[39;00mr[\u001b[39m0\u001b[39m]\u001b[39m}\u001b[39;00m\u001b[39m interações, \u001b[39m\u001b[39m{\u001b[39;00mr[\u001b[39m1\u001b[39m]\u001b[39m}\u001b[39;00m\u001b[39m'\u001b[39m)\n\u001b[1;32m---> <a href='vscode-notebook-cell:/c%3A/Users/Isabelle/OneDrive/%C3%81rea%20de%20Trabalho/c_comp/2_semestre/mat_cont/miniprojeto/Miniprojeto/vetor_gradiente.ipynb#X12sZmlsZQ%3D%3D?line=43'>44</a>\u001b[0m r \u001b[39m=\u001b[39m ponto_minimo(\u001b[39m0.5\u001b[39;49m, \u001b[39m0\u001b[39;49m, \u001b[39m0\u001b[39;49m, \u001b[39m10\u001b[39;49m\u001b[39m*\u001b[39;49m\u001b[39m*\u001b[39;49m(\u001b[39m-\u001b[39;49m\u001b[39m5\u001b[39;49m))\n\u001b[0;32m     <a href='vscode-notebook-cell:/c%3A/Users/Isabelle/OneDrive/%C3%81rea%20de%20Trabalho/c_comp/2_semestre/mat_cont/miniprojeto/Miniprojeto/vetor_gradiente.ipynb#X12sZmlsZQ%3D%3D?line=44'>45</a>\u001b[0m \u001b[39mprint\u001b[39m(\u001b[39mf\u001b[39m\u001b[39m'\u001b[39m\u001b[39mApós \u001b[39m\u001b[39m{\u001b[39;00mr[\u001b[39m0\u001b[39m]\u001b[39m}\u001b[39;00m\u001b[39m interações, \u001b[39m\u001b[39m{\u001b[39;00mr[\u001b[39m1\u001b[39m]\u001b[39m}\u001b[39;00m\u001b[39m'\u001b[39m)\n",
      "\u001b[1;32mc:\\Users\\Isabelle\\OneDrive\\Área de Trabalho\\c_comp\\2_semestre\\mat_cont\\miniprojeto\\Miniprojeto\\vetor_gradiente.ipynb Célula: 8\u001b[0m in \u001b[0;36mponto_minimo\u001b[1;34m(alfa, x0, y0, precisao)\u001b[0m\n\u001b[0;32m     <a href='vscode-notebook-cell:/c%3A/Users/Isabelle/OneDrive/%C3%81rea%20de%20Trabalho/c_comp/2_semestre/mat_cont/miniprojeto/Miniprojeto/vetor_gradiente.ipynb#X12sZmlsZQ%3D%3D?line=14'>15</a>\u001b[0m z_ant \u001b[39m=\u001b[39m \u001b[39mfloat\u001b[39m(funcao_g(x1, y1))\n\u001b[0;32m     <a href='vscode-notebook-cell:/c%3A/Users/Isabelle/OneDrive/%C3%81rea%20de%20Trabalho/c_comp/2_semestre/mat_cont/miniprojeto/Miniprojeto/vetor_gradiente.ipynb#X12sZmlsZQ%3D%3D?line=15'>16</a>\u001b[0m \u001b[39mwhile\u001b[39;00m \u001b[39mTrue\u001b[39;00m:\n\u001b[1;32m---> <a href='vscode-notebook-cell:/c%3A/Users/Isabelle/OneDrive/%C3%81rea%20de%20Trabalho/c_comp/2_semestre/mat_cont/miniprojeto/Miniprojeto/vetor_gradiente.ipynb#X12sZmlsZQ%3D%3D?line=16'>17</a>\u001b[0m     a \u001b[39m=\u001b[39m x0 \u001b[39m/\u001b[39m np\u001b[39m.\u001b[39msqrt(x0\u001b[39m*\u001b[39m\u001b[39m*\u001b[39m\u001b[39m2\u001b[39m \u001b[39m+\u001b[39m y0\u001b[39m*\u001b[39m\u001b[39m*\u001b[39m\u001b[39m2\u001b[39m \u001b[39m+\u001b[39m \u001b[39m1\u001b[39m) \u001b[39m+\u001b[39m \u001b[39m2\u001b[39m \u001b[39m*\u001b[39m np\u001b[39m.\u001b[39;49mexp(\u001b[39m-\u001b[39;49my0\u001b[39m*\u001b[39;49m\u001b[39m*\u001b[39;49m\u001b[39m2\u001b[39;49m) \u001b[39m*\u001b[39m x0 \u001b[39m+\u001b[39m \u001b[39m2\u001b[39m \u001b[39m*\u001b[39m (x0 \u001b[39m-\u001b[39m \u001b[39m2\u001b[39m)\n\u001b[0;32m     <a href='vscode-notebook-cell:/c%3A/Users/Isabelle/OneDrive/%C3%81rea%20de%20Trabalho/c_comp/2_semestre/mat_cont/miniprojeto/Miniprojeto/vetor_gradiente.ipynb#X12sZmlsZQ%3D%3D?line=17'>18</a>\u001b[0m     b \u001b[39m=\u001b[39m y0 \u001b[39m/\u001b[39m np\u001b[39m.\u001b[39msqrt(x0\u001b[39m*\u001b[39m\u001b[39m*\u001b[39m\u001b[39m2\u001b[39m\u001b[39m+\u001b[39my0\u001b[39m*\u001b[39m\u001b[39m*\u001b[39m\u001b[39m2\u001b[39m\u001b[39m+\u001b[39m\u001b[39m1\u001b[39m) \u001b[39m-\u001b[39m \u001b[39m2\u001b[39m \u001b[39m*\u001b[39m np\u001b[39m.\u001b[39mexp(\u001b[39m-\u001b[39my0\u001b[39m*\u001b[39m\u001b[39m*\u001b[39m\u001b[39m2\u001b[39m) \u001b[39m*\u001b[39m x0\u001b[39m*\u001b[39m\u001b[39m*\u001b[39m\u001b[39m2\u001b[39m \u001b[39m*\u001b[39m y0\n\u001b[0;32m     <a href='vscode-notebook-cell:/c%3A/Users/Isabelle/OneDrive/%C3%81rea%20de%20Trabalho/c_comp/2_semestre/mat_cont/miniprojeto/Miniprojeto/vetor_gradiente.ipynb#X12sZmlsZQ%3D%3D?line=18'>19</a>\u001b[0m     x1 \u001b[39m=\u001b[39m x0 \u001b[39m-\u001b[39m alfa \u001b[39m*\u001b[39m a \n",
      "\u001b[1;31mKeyboardInterrupt\u001b[0m: "
     ]
    }
   ],
   "source": [
    "import numpy as np\n",
    "\n",
    "def funcao_g (x, y):\n",
    "    try:\n",
    "        conta = np.sqrt(x**2+y**2+1) + x**2 * np.exp(-y**2) + (x-2)**2\n",
    "        return conta\n",
    "    except:\n",
    "        return 'os resultados divergiram do ponto procurado, tendendo ao infinito.'\n",
    "    \n",
    "\n",
    "def ponto_minimo (alfa, x0, y0, precisao):\n",
    "    x1 = x0\n",
    "    y1 = y0\n",
    "    i = 0\n",
    "    z_ant = float(funcao_g(x1, y1))\n",
    "    while True:\n",
    "        a = x0 / np.sqrt(x0**2 + y0**2 + 1) + 2 * np.exp(-y0**2) * x0 + 2 * (x0 - 2)\n",
    "        b = y0 / np.sqrt(x0**2+y0**2+1) - 2 * np.exp(-y0**2) * x0**2 * y0\n",
    "        x1 = x0 - alfa * a \n",
    "        y1 = y0 - alfa * b\n",
    "        z = funcao_g(x1, y1)\n",
    "        if type(z) == str:\n",
    "            return [i,z]\n",
    "        if abs(z_ant - z) < precisao:\n",
    "            break\n",
    "        z_ant = z\n",
    "        x0 = x1\n",
    "        y0 = y1\n",
    "        i += 1\n",
    "    return [i, z, (x0, y0) ]\n",
    "\n",
    "r = ponto_minimo(0.1, 0, 0, 10**(-5))\n",
    "print(f'Ponto mínimo: {r[1], r[2]}; Número de interações: {r[0]}')\n",
    "\n",
    "r = ponto_minimo(0.15, 0, 0, 10**(-5))\n",
    "print(f'Ponto mínimo: {r[1]}; Número de interações: {r[0]}')\n",
    "\n",
    "r = ponto_minimo(0.2, 0, 0, 10**(-5))\n",
    "print(f'Ponto mínimo: {r[1]}; Número de interações: {r[0]}')\n",
    "\n",
    "r = ponto_minimo(0.3, 0, 0, 10**(-5))\n",
    "print(f'Após {r[0]} interações, {r[1]}')\n",
    "\n",
    "r = ponto_minimo(0.5, 0, 0, 10**(-5))\n",
    "print(f'Após {r[0]} interações, {r[1]}')\n"
   ]
  },
  {
   "cell_type": "markdown",
   "metadata": {},
   "source": [
    "Modificações para obter o segundo ponto de mínimo:\n",
    "\n",
    "Comportamento do processo de convergência para diferentes valores do passo:"
   ]
  },
  {
   "cell_type": "markdown",
   "metadata": {},
   "source": [
    "## Tarefa 3"
   ]
  },
  {
   "cell_type": "code",
   "execution_count": null,
   "metadata": {},
   "outputs": [],
   "source": [
    "import numpy as np\n",
    "\n",
    "def funcao_h (x, y):\n",
    "    try:\n",
    "        conta = 4 * np.exp(-x**2 - y**2) + 3 * np.exp(-x**2 - y**2 + 4*x + 6*y - 13) + x**2 / 4   + y**2 / 6 + 2\n",
    "        return conta\n",
    "    except:\n",
    "        return 'os resultados divergiram do ponto procurado, tendendo ao infinito.'\n",
    "      \n",
    "      \n",
    "def ponto_maximo (alfa, x0, y0, precisao):\n",
    "    x1 = x0\n",
    "    y1 = y0\n",
    "    i = 0\n",
    "    z_ant = float(funcao_h(x1, y1))\n",
    "    while True:\n",
    "        a = -8 * np.exp(-x0**2 - y0**2) * x0 - x0 / 2 + 3 * np.exp(-x0**2 + 4*x0 + 6*y0 - y0**2 - 13) * (-2*x0 + 4)\n",
    "        b = -8 * np.exp(-x0**2 - y0**2) * y0 - y0 / 3 + 3 * np.exp(-x0**2 + 4*x0 + 6*y0 - y0**2 - 13) * (-2*y0 + 6)\n",
    "        x1 = x0 + alfa * a \n",
    "        y1 = y0 + alfa * b\n",
    "        z = funcao_h(x1, y1)\n",
    "        if type(z) == str:\n",
    "            return [i,z]\n",
    "        if abs(z_ant - z) < precisao:\n",
    "            break\n",
    "        z_ant = z\n",
    "        x0 = x1\n",
    "        y0 = y1\n",
    "        i += 1\n",
    "    return [i, z]"
   ]
  },
  {
   "cell_type": "markdown",
   "metadata": {},
   "source": [
    "## Tarefa Desafio\n",
    "\n",
    "Faça uma pesquisa sobre a utilização de passo variável e implemente o método no seu código para calcular o ponto de mínimo da função f da Tarefa 1. Compare o número de interações necessárias até a convergência nos dois casos."
   ]
  }
 ],
 "metadata": {
  "kernelspec": {
   "display_name": "Python 3.10.2 64-bit",
   "language": "python",
   "name": "python3"
  },
  "language_info": {
   "codemirror_mode": {
    "name": "ipython",
    "version": 3
   },
   "file_extension": ".py",
   "mimetype": "text/x-python",
   "name": "python",
   "nbconvert_exporter": "python",
   "pygments_lexer": "ipython3",
   "version": "3.10.2"
  },
  "orig_nbformat": 4,
  "vscode": {
   "interpreter": {
    "hash": "de8d82a537434c4fa43e6d3a8b7a40c5d4b20c1d227b20a89f1f47ce0d6131e1"
   }
  }
 },
 "nbformat": 4,
 "nbformat_minor": 2
}
